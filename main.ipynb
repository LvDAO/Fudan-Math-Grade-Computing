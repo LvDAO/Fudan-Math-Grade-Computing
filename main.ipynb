{
 "cells": [
  {
   "cell_type": "code",
   "execution_count": 1,
   "id": "74015170",
   "metadata": {},
   "outputs": [],
   "source": [
    "import polars as pl\n",
    "\n",
    "grades = pl.read_csv(\"./Grades.csv\")"
   ]
  },
  {
   "cell_type": "code",
   "execution_count": 5,
   "id": "7f6e4a4a",
   "metadata": {},
   "outputs": [
    {
     "data": {
      "text/html": [
       "<div><style>\n",
       ".dataframe > thead > tr,\n",
       ".dataframe > tbody > tr {\n",
       "  text-align: right;\n",
       "  white-space: pre-wrap;\n",
       "}\n",
       "</style>\n",
       "<small>shape: (58, 13)</small><table border=\"1\" class=\"dataframe\"><thead><tr><th>课程代码</th><th>课程名称</th><th>课程序号</th><th>学年学期</th><th>学期号</th><th>教师工号</th><th>教师姓名</th><th>学号</th><th>姓名</th><th>现在年级</th><th>学分</th><th>最终成绩</th><th>绩点</th></tr><tr><td>str</td><td>str</td><td>str</td><td>str</td><td>i64</td><td>str</td><td>str</td><td>i64</td><td>str</td><td>i64</td><td>f64</td><td>str</td><td>f64</td></tr></thead><tbody><tr><td>&quot;MATH130012&quot;</td><td>&quot;数理方程&quot;</td><td>&quot;MATH130012.02&quot;</td><td>&quot;2024-2025春&quot;</td><td>2024202502</td><td>&quot;09014,41831&quot;</td><td>&quot;雷震,蔡圆&quot;</td><td>19300180105</td><td>&quot;崔竣翔&quot;</td><td>2022</td><td>3.0</td><td>&quot;缓考&quot;</td><td>null</td></tr><tr><td>&quot;MECH130084&quot;</td><td>&quot;基础力学&quot;</td><td>&quot;MECH130084.02&quot;</td><td>&quot;2024-2025春&quot;</td><td>2024202502</td><td>&quot;44136&quot;</td><td>&quot;林治武&quot;</td><td>19300180105</td><td>&quot;崔竣翔&quot;</td><td>2022</td><td>3.0</td><td>&quot;缓考&quot;</td><td>null</td></tr><tr><td>&quot;MATH120015&quot;</td><td>&quot;数学分析AⅡ&quot;</td><td>&quot;MATH120015.01&quot;</td><td>&quot;2024-2025春&quot;</td><td>2024202502</td><td>&quot;06215,BH8200&quot;</td><td>&quot;梁振国,王聪&quot;</td><td>20300180040</td><td>&quot;齐骥&quot;</td><td>2022</td><td>5.0</td><td>&quot;缓考&quot;</td><td>null</td></tr><tr><td>&quot;MATH130007&quot;</td><td>&quot;实变函数&quot;</td><td>&quot;MATH130007.01&quot;</td><td>&quot;2024-2025春&quot;</td><td>2024202502</td><td>&quot;25222&quot;</td><td>&quot;徐胜芝&quot;</td><td>20300180040</td><td>&quot;齐骥&quot;</td><td>2022</td><td>3.0</td><td>&quot;缓考&quot;</td><td>null</td></tr><tr><td>&quot;MATH130008&quot;</td><td>&quot;数学模型&quot;</td><td>&quot;MATH130008.02&quot;</td><td>&quot;2024-2025春&quot;</td><td>2024202502</td><td>&quot;06381&quot;</td><td>&quot;张云新&quot;</td><td>20300180040</td><td>&quot;齐骥&quot;</td><td>2022</td><td>3.0</td><td>&quot;缓考&quot;</td><td>null</td></tr><tr><td>&hellip;</td><td>&hellip;</td><td>&hellip;</td><td>&hellip;</td><td>&hellip;</td><td>&hellip;</td><td>&hellip;</td><td>&hellip;</td><td>&hellip;</td><td>&hellip;</td><td>&hellip;</td><td>&hellip;</td><td>&hellip;</td></tr><tr><td>&quot;MATH130058&quot;</td><td>&quot;寿险精算数学&quot;</td><td>&quot;MATH130058.01&quot;</td><td>&quot;2024-2025春&quot;</td><td>2024202502</td><td>&quot;21107,42103&quot;</td><td>&quot;李荣敏,李金凤&quot;</td><td>20300180153</td><td>&quot;万佳钰&quot;</td><td>2022</td><td>3.0</td><td>&quot;缓考&quot;</td><td>null</td></tr><tr><td>&quot;MATH130058&quot;</td><td>&quot;寿险精算数学&quot;</td><td>&quot;MATH130058.01&quot;</td><td>&quot;2024-2025春&quot;</td><td>2024202502</td><td>&quot;21107,42103&quot;</td><td>&quot;李荣敏,李金凤&quot;</td><td>22300180136</td><td>&quot;郭桐瑄&quot;</td><td>2022</td><td>3.0</td><td>&quot;缓考&quot;</td><td>null</td></tr><tr><td>&quot;MATH130060&quot;</td><td>&quot;数理统计&quot;</td><td>&quot;MATH130060.01&quot;</td><td>&quot;2024-2025春&quot;</td><td>2024202502</td><td>&quot;44092&quot;</td><td>&quot;尤翀&quot;</td><td>22300180136</td><td>&quot;郭桐瑄&quot;</td><td>2022</td><td>3.0</td><td>&quot;缓考&quot;</td><td>null</td></tr><tr><td>&quot;MATH130148&quot;</td><td>&quot;金融中的随机分析&quot;</td><td>&quot;MATH130148.01&quot;</td><td>&quot;2024-2025春&quot;</td><td>2024202502</td><td>&quot;33280&quot;</td><td>&quot;张静&quot;</td><td>20300180153</td><td>&quot;万佳钰&quot;</td><td>2022</td><td>3.0</td><td>&quot;缓考&quot;</td><td>null</td></tr><tr><td>&quot;MATH130164h&quot;</td><td>&quot;数学控制论(H)&quot;</td><td>&quot;MATH130164h.01&quot;</td><td>&quot;2024-2025春&quot;</td><td>2024202502</td><td>&quot;06220&quot;</td><td>&quot;许亚善&quot;</td><td>22300180136</td><td>&quot;郭桐瑄&quot;</td><td>2022</td><td>4.0</td><td>&quot;缓考&quot;</td><td>null</td></tr></tbody></table></div>"
      ],
      "text/plain": [
       "shape: (58, 13)\n",
       "┌─────────────┬───────────────┬──────────────┬─────────────┬───┬──────────┬──────┬──────────┬──────┐\n",
       "│ 课程代码    ┆ 课程名称      ┆ 课程序号     ┆ 学年学期    ┆ … ┆ 现在年级 ┆ 学分 ┆ 最终成绩 ┆ 绩点 │\n",
       "│ ---         ┆ ---           ┆ ---          ┆ ---         ┆   ┆ ---      ┆ ---  ┆ ---      ┆ ---  │\n",
       "│ str         ┆ str           ┆ str          ┆ str         ┆   ┆ i64      ┆ f64  ┆ str      ┆ f64  │\n",
       "╞═════════════╪═══════════════╪══════════════╪═════════════╪═══╪══════════╪══════╪══════════╪══════╡\n",
       "│ MATH130012  ┆ 数理方程      ┆ MATH130012.0 ┆ 2024-2025春 ┆ … ┆ 2022     ┆ 3.0  ┆ 缓考     ┆ null │\n",
       "│             ┆               ┆ 2            ┆             ┆   ┆          ┆      ┆          ┆      │\n",
       "│ MECH130084  ┆ 基础力学      ┆ MECH130084.0 ┆ 2024-2025春 ┆ … ┆ 2022     ┆ 3.0  ┆ 缓考     ┆ null │\n",
       "│             ┆               ┆ 2            ┆             ┆   ┆          ┆      ┆          ┆      │\n",
       "│ MATH120015  ┆ 数学分析AⅡ    ┆ MATH120015.0 ┆ 2024-2025春 ┆ … ┆ 2022     ┆ 5.0  ┆ 缓考     ┆ null │\n",
       "│             ┆               ┆ 1            ┆             ┆   ┆          ┆      ┆          ┆      │\n",
       "│ MATH130007  ┆ 实变函数      ┆ MATH130007.0 ┆ 2024-2025春 ┆ … ┆ 2022     ┆ 3.0  ┆ 缓考     ┆ null │\n",
       "│             ┆               ┆ 1            ┆             ┆   ┆          ┆      ┆          ┆      │\n",
       "│ MATH130008  ┆ 数学模型      ┆ MATH130008.0 ┆ 2024-2025春 ┆ … ┆ 2022     ┆ 3.0  ┆ 缓考     ┆ null │\n",
       "│             ┆               ┆ 2            ┆             ┆   ┆          ┆      ┆          ┆      │\n",
       "│ …           ┆ …             ┆ …            ┆ …           ┆ … ┆ …        ┆ …    ┆ …        ┆ …    │\n",
       "│ MATH130058  ┆ 寿险精算数学  ┆ MATH130058.0 ┆ 2024-2025春 ┆ … ┆ 2022     ┆ 3.0  ┆ 缓考     ┆ null │\n",
       "│             ┆               ┆ 1            ┆             ┆   ┆          ┆      ┆          ┆      │\n",
       "│ MATH130058  ┆ 寿险精算数学  ┆ MATH130058.0 ┆ 2024-2025春 ┆ … ┆ 2022     ┆ 3.0  ┆ 缓考     ┆ null │\n",
       "│             ┆               ┆ 1            ┆             ┆   ┆          ┆      ┆          ┆      │\n",
       "│ MATH130060  ┆ 数理统计      ┆ MATH130060.0 ┆ 2024-2025春 ┆ … ┆ 2022     ┆ 3.0  ┆ 缓考     ┆ null │\n",
       "│             ┆               ┆ 1            ┆             ┆   ┆          ┆      ┆          ┆      │\n",
       "│ MATH130148  ┆ 金融中的随机  ┆ MATH130148.0 ┆ 2024-2025春 ┆ … ┆ 2022     ┆ 3.0  ┆ 缓考     ┆ null │\n",
       "│             ┆ 分析          ┆ 1            ┆             ┆   ┆          ┆      ┆          ┆      │\n",
       "│ MATH130164h ┆ 数学控制论(H) ┆ MATH130164h. ┆ 2024-2025春 ┆ … ┆ 2022     ┆ 4.0  ┆ 缓考     ┆ null │\n",
       "│             ┆               ┆ 01           ┆             ┆   ┆          ┆      ┆          ┆      │\n",
       "└─────────────┴───────────────┴──────────────┴─────────────┴───┴──────────┴──────┴──────────┴──────┘"
      ]
     },
     "execution_count": 5,
     "metadata": {},
     "output_type": "execute_result"
    }
   ],
   "source": [
    "grades.filter(\n",
    "    pl.col(\"最终成绩\") == \"缓考\",\n",
    ")"
   ]
  }
 ],
 "metadata": {
  "kernelspec": {
   "display_name": ".venv",
   "language": "python",
   "name": "python3"
  },
  "language_info": {
   "codemirror_mode": {
    "name": "ipython",
    "version": 3
   },
   "file_extension": ".py",
   "mimetype": "text/x-python",
   "name": "python",
   "nbconvert_exporter": "python",
   "pygments_lexer": "ipython3",
   "version": "3.14.0b3"
  }
 },
 "nbformat": 4,
 "nbformat_minor": 5
}
